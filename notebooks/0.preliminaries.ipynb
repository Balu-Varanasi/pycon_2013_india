{
 "metadata": {
  "name": "0.preliminaries"
 },
 "nbformat": 3,
 "nbformat_minor": 0,
 "worksheets": [
  {
   "cells": [
    {
     "cell_type": "heading",
     "level": 1,
     "metadata": {},
     "source": [
      "An Introduction to scikit-learn: Machine Learning in Python"
     ]
    },
    {
     "cell_type": "heading",
     "level": 2,
     "metadata": {},
     "source": [
      "Goals of this Tutorial"
     ]
    },
    {
     "cell_type": "markdown",
     "metadata": {},
     "source": [
      "- **Introduce the basics of Machine Learning**, and some skills useful in practice.\n",
      "- **Introduce the syntax of scikit-learn**, so that you can make use of the rich toolset available."
     ]
    },
    {
     "cell_type": "heading",
     "level": 2,
     "metadata": {},
     "source": [
      "Schedule:"
     ]
    },
    {
     "cell_type": "markdown",
     "metadata": {},
     "source": [
      "- **9:30 - 11:00**: Part 1\n",
      "   + An Introduction to Machine Learning\n",
      "   + Representation of data and Feature extraction\n",
      "   + Basics priciples of Machine Learning\n",
      "   + Supervised learning\n",
      "       * _regression_\n",
      "       * _classification_\n",
      "   + Unsupervised learning\n",
      "       * _clustering_\n",
      "       * _dimensionality reduction_\n",
      "\n",
      "- **11:00 - 11:10**: short break\n",
      "\n",
      "- **11:10 - 12:00**: part 2\n",
      "   + Validation and testing of models\n"
     ]
    },
    {
     "cell_type": "heading",
     "level": 2,
     "metadata": {},
     "source": [
      "Preliminaries"
     ]
    },
    {
     "cell_type": "markdown",
     "metadata": {},
     "source": [
      "This tutorial requires latest versions of the following packages:\n",
      "\n",
      "- Python version\n",
      "- `numpy`: http://www.numpy.org/\n",
      "- `scipy`: http://www.scipy.org/\n",
      "- `matplotlib`: http://matplotlib.org/\n",
      "- `scikit-learn`: http://scikit-learn.org\n",
      "- `ipython` with notebook support: http://ipython.org\n",
      "\n",
      "The easiest way to get these is to use an all-in-one installer such as\n",
      "[Anaconda CE](https://store.continuum.io/) from Continuum or\n",
      "[EPD Free](https://www.enthought.com/products/epd/free/) from Enthought.\n",
      "These are available for multiple architectures.\n",
      "\n",
      "Other options do exist:\n",
      "\n",
      "- **Linux**: If you're on Linux, you can use the linux distribution tools (by typing, for\n",
      "example `apt-get install numpy` or `yum install numpy`.\n",
      "\n",
      "- **Mac**: If you're on OSX, there are similar tools such as MacPorts or HomeBrew which\n",
      "contain pre-compiled versions of these packages.\n",
      "\n",
      "- **Windows**: Windows can be challenging: the best bet is probably to use one of the package\n",
      "installers mentioned above.\n",
      "\n",
      "You can run the following code to check the versions of the packages on your system:\n",
      "\n",
      "(in IPython notebook, press `shift` and `return` together to execute the contents of a cell)"
     ]
    },
    {
     "cell_type": "code",
     "collapsed": false,
     "input": [
      "import numpy\n",
      "print 'numpy:', numpy.__version__\n",
      "\n",
      "import scipy\n",
      "print 'scipy:', scipy.__version__\n",
      "\n",
      "import matplotlib\n",
      "print 'matplotlib:', matplotlib.__version__\n",
      "\n",
      "import sklearn\n",
      "print 'scikit-learn:', sklearn.__version__"
     ],
     "language": "python",
     "metadata": {},
     "outputs": []
    },
    {
     "cell_type": "heading",
     "level": 2,
     "metadata": {},
     "source": [
      "Useful Resources"
     ]
    },
    {
     "cell_type": "markdown",
     "metadata": {},
     "source": [
      "- **scikit-learn:** http://scikit-learn.org (see especially the narrative documentation)\n",
      "- **matplotlib:** http://matplotlib.org (see especially the gallery section)\n",
      "- **IPython:** http://ipython.org (also check out http://nbviewer.ipython.org)\n",
      "- **Python Scientific Lecture Notes:** http://scipy-lectures.github.io"
     ]
    }
   ],
   "metadata": {}
  }
 ]
}